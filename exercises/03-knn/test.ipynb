{
 "cells": [
  {
   "cell_type": "code",
   "execution_count": 117,
   "id": "5fb33082-5622-4ae0-8650-a2fdd92fb239",
   "metadata": {},
   "outputs": [
    {
     "name": "stdout",
     "output_type": "stream",
     "text": [
      "[  44.73442623 4184.22131148] [  5.30537572 725.93354833]\n",
      "Manhattan: [4.2 2.7 2.2]\n",
      "Euclidean: [3.1 2.  2. ]\n"
     ]
    },
    {
     "ename": "TypeError",
     "evalue": "Field elements must be 2- or 3-tuples, got 'array([3.08355209, 2.00636864, 2.0046187 , 1.45006931, 2.15077378,\n       2.05984101, 1.51634492, 3.25494153, 2.43813941, 4.55995559,\n       2.21670824, 4.28236828, 4.1737135 , 4.06727207, 1.80673597,\n       2.89583413, 2.73880517, 1.78572866, 2.48593271, 4.06192708,\n       2.97701851, 0.89017565, 1.97960308, 2.19969413, 1.26024664,\n       1.99072484, 4.2964432 , 1.91949155, 1.60792544, 1.30879546,\n       2.2001969 , 1.3776655 , 1.75148111, 2.58175155, 1.13318262,\n       1.32806259, 3.25680593, 2.54955766, 2.82862664, 3.04836407,\n       2.77413687, 2.86944081, 1.17909586, 2.54964252, 2.46029009,\n       1.75327571, 1.54932486, 2.15828339, 2.44794027, 2.46951182,\n       2.22459544, 2.66678781, 1.31529422, 2.37783648, 3.40034412,\n       2.50499123, 2.99614201, 2.50954104, 3.52142309, 3.23918577,\n       1.56586058, 2.69918063, 1.96295813, 1.83285571, 2.21560132,\n       1.59682391, 2.06390085, 1.72404217, 1.1625836 , 4.36275657,\n       2.84900057, 2.94223705, 0.82261857, 2.90661042, 1.96770943,\n       1.38075664, 1.66731189, 2.1470577 , 4.1737135 , 1.13737926,\n       1.99283953, 1.76287897, 1.34744173, 2.32785854, 1.50216463,\n       3.32751065, 1.22047376, 2.35270994, 2.33819578, 1.913904  ,\n       2.12712697, 2.32844357, 2.07668106, 3.66620441, 2.01890476,\n       2.66021024, 3.87932892, 3.1793042 , 2.46482455, 2.56870286,\n       1.89518347, 2.52997219, 1.78309185, 1.66807654, 2.4841466 ,\n       3.98102091, 3.44404771, 1.97113613, 2.10045286, 1.04586773,\n       2.92422609, 3.54418365, 2.56806585, 3.95335374, 2.82797295,\n       2.78051808, 1.03744198, 1.38910705, 2.13063803, 2.34302551,\n       1.98184448, 2.55240933])'",
     "output_type": "error",
     "traceback": [
      "\u001b[1;31m---------------------------------------------------------------------------\u001b[0m",
      "\u001b[1;31mTypeError\u001b[0m                                 Traceback (most recent call last)",
      "\u001b[1;32m~\\AppData\\Local\\Temp\\ipykernel_1168\\308324310.py\u001b[0m in \u001b[0;36m<module>\u001b[1;34m\u001b[0m\n\u001b[0;32m     44\u001b[0m \u001b[0meuclidean_dist\u001b[0m\u001b[1;33m(\u001b[0m\u001b[0mX_val\u001b[0m\u001b[1;33m[\u001b[0m\u001b[1;36m0\u001b[0m\u001b[1;33m]\u001b[0m\u001b[1;33m,\u001b[0m\u001b[0mX_train\u001b[0m\u001b[1;33m)\u001b[0m\u001b[1;33m\u001b[0m\u001b[1;33m\u001b[0m\u001b[0m\n\u001b[0;32m     45\u001b[0m \u001b[1;33m\u001b[0m\u001b[0m\n\u001b[1;32m---> 46\u001b[1;33m \u001b[0md\u001b[0m\u001b[1;33m=\u001b[0m\u001b[0mnp\u001b[0m\u001b[1;33m.\u001b[0m\u001b[0marray\u001b[0m\u001b[1;33m(\u001b[0m\u001b[1;33m[\u001b[0m\u001b[0mnp\u001b[0m\u001b[1;33m.\u001b[0m\u001b[0marange\u001b[0m\u001b[1;33m(\u001b[0m\u001b[0mlen\u001b[0m\u001b[1;33m(\u001b[0m\u001b[0mX_train\u001b[0m\u001b[1;33m)\u001b[0m\u001b[1;33m)\u001b[0m\u001b[1;33m]\u001b[0m\u001b[1;33m,\u001b[0m\u001b[1;33m[\u001b[0m\u001b[0meuclidean_dist\u001b[0m\u001b[1;33m(\u001b[0m\u001b[0mX_val\u001b[0m\u001b[1;33m[\u001b[0m\u001b[1;36m0\u001b[0m\u001b[1;33m]\u001b[0m\u001b[1;33m,\u001b[0m\u001b[0mX_train\u001b[0m\u001b[1;33m)\u001b[0m\u001b[1;33m]\u001b[0m\u001b[1;33m)\u001b[0m\u001b[1;33m.\u001b[0m\u001b[0mreshape\u001b[0m\u001b[1;33m(\u001b[0m\u001b[1;36m2\u001b[0m\u001b[1;33m,\u001b[0m\u001b[1;33m-\u001b[0m\u001b[1;36m1\u001b[0m\u001b[1;33m)\u001b[0m\u001b[1;33m\u001b[0m\u001b[1;33m\u001b[0m\u001b[0m\n\u001b[0m\u001b[0;32m     47\u001b[0m \u001b[0ms\u001b[0m\u001b[1;33m=\u001b[0m\u001b[0mmin\u001b[0m\u001b[1;33m(\u001b[0m\u001b[0meuclidean_dist\u001b[0m\u001b[1;33m(\u001b[0m\u001b[0mX_val\u001b[0m\u001b[1;33m[\u001b[0m\u001b[1;36m0\u001b[0m\u001b[1;33m]\u001b[0m\u001b[1;33m,\u001b[0m\u001b[0mX_train\u001b[0m\u001b[1;33m)\u001b[0m\u001b[1;33m)\u001b[0m\u001b[1;33m\u001b[0m\u001b[1;33m\u001b[0m\u001b[0m\n\u001b[0;32m     48\u001b[0m \u001b[0mprint\u001b[0m\u001b[1;33m(\u001b[0m\u001b[0ms\u001b[0m\u001b[1;33m)\u001b[0m\u001b[1;33m\u001b[0m\u001b[1;33m\u001b[0m\u001b[0m\n",
      "\u001b[1;31mTypeError\u001b[0m: Field elements must be 2- or 3-tuples, got 'array([3.08355209, 2.00636864, 2.0046187 , 1.45006931, 2.15077378,\n       2.05984101, 1.51634492, 3.25494153, 2.43813941, 4.55995559,\n       2.21670824, 4.28236828, 4.1737135 , 4.06727207, 1.80673597,\n       2.89583413, 2.73880517, 1.78572866, 2.48593271, 4.06192708,\n       2.97701851, 0.89017565, 1.97960308, 2.19969413, 1.26024664,\n       1.99072484, 4.2964432 , 1.91949155, 1.60792544, 1.30879546,\n       2.2001969 , 1.3776655 , 1.75148111, 2.58175155, 1.13318262,\n       1.32806259, 3.25680593, 2.54955766, 2.82862664, 3.04836407,\n       2.77413687, 2.86944081, 1.17909586, 2.54964252, 2.46029009,\n       1.75327571, 1.54932486, 2.15828339, 2.44794027, 2.46951182,\n       2.22459544, 2.66678781, 1.31529422, 2.37783648, 3.40034412,\n       2.50499123, 2.99614201, 2.50954104, 3.52142309, 3.23918577,\n       1.56586058, 2.69918063, 1.96295813, 1.83285571, 2.21560132,\n       1.59682391, 2.06390085, 1.72404217, 1.1625836 , 4.36275657,\n       2.84900057, 2.94223705, 0.82261857, 2.90661042, 1.96770943,\n       1.38075664, 1.66731189, 2.1470577 , 4.1737135 , 1.13737926,\n       1.99283953, 1.76287897, 1.34744173, 2.32785854, 1.50216463,\n       3.32751065, 1.22047376, 2.35270994, 2.33819578, 1.913904  ,\n       2.12712697, 2.32844357, 2.07668106, 3.66620441, 2.01890476,\n       2.66021024, 3.87932892, 3.1793042 , 2.46482455, 2.56870286,\n       1.89518347, 2.52997219, 1.78309185, 1.66807654, 2.4841466 ,\n       3.98102091, 3.44404771, 1.97113613, 2.10045286, 1.04586773,\n       2.92422609, 3.54418365, 2.56806585, 3.95335374, 2.82797295,\n       2.78051808, 1.03744198, 1.38910705, 2.13063803, 2.34302551,\n       1.98184448, 2.55240933])'"
     ]
    }
   ],
   "source": [
    "import numpy as np\n",
    "import matplotlib.pyplot as plt\n",
    "import pandas as pd\n",
    "from typing import Any, Callable\n",
    "import helpers\n",
    "\n",
    "labeled_df = pd.read_csv('data/labeled_penguins.csv')\n",
    "\n",
    "labeled_df.head(5)\n",
    "\n",
    "X_train, y_train, X_val, y_val, X_test, y_test, feature_names, label_map = helpers.preprocess_data(df=labeled_df, label=\"species\", train_size=0.6, val_size=0.2, seed=42)\n",
    "unlabeled_df = pd.read_csv('data/unlabeled_penguins.csv')\n",
    "\n",
    "unlabeled_df.head(5)\n",
    "\n",
    "X_unlabeled = unlabeled_df.to_numpy()\n",
    "\n",
    "mean=(sum(X_train[:,])/len(X_train))\n",
    "std=(((sum(X_train[:,]**2)-len(X_train)*(mean**2)))/(len(X_train)))**0.5\n",
    "print(mean,std)\n",
    "\n",
    "def normalize(X: np.ndarray, mean: np.ndarray, std: np.ndarray):\n",
    "    X_normalized = (X-mean)/(std)\n",
    "    return X_normalized\n",
    "\n",
    "feature_names = ['Bill length (normalized)', 'Body mass (normalized)']\n",
    "\n",
    "X_train = normalize(X_train, mean, std)\n",
    "X_val = normalize(X_val, mean, std)\n",
    "X_test = normalize(X_test, mean, std)\n",
    "X_unlabeled = normalize(X_unlabeled, mean, std)\n",
    "\n",
    "def manhattan_dist(sample: np.ndarray, X: np.ndarray):\n",
    "    distances = sum((abs(sample-X)).T)\n",
    "    return distances\n",
    "   \n",
    "def euclidean_dist(sample: np.ndarray, X: np.ndarray):\n",
    "    distances = (sum(((sample-X)**2).T))**0.5\n",
    "    return distances\n",
    "\n",
    "print(f'Manhattan: {np.round(manhattan_dist(X_val[0], X_train[:3]), decimals=1)}')\n",
    "print(f'Euclidean: {np.round(euclidean_dist(X_val[0], X_train[:3]), decimals=1)}')\n",
    "\n",
    "euclidean_dist(X_val[0],X_train)\n",
    "\n"
   ]
  },
  {
   "cell_type": "code",
   "execution_count": null,
   "id": "7e3512c3-c48a-4788-b24e-dfc211f41e5a",
   "metadata": {},
   "outputs": [],
   "source": []
  },
  {
   "cell_type": "code",
   "execution_count": null,
   "id": "6b9196d1-35f5-401b-bf19-c1403296cab2",
   "metadata": {},
   "outputs": [],
   "source": []
  },
  {
   "cell_type": "code",
   "execution_count": null,
   "id": "4481ba26-ce53-4898-9354-132c5acd382a",
   "metadata": {},
   "outputs": [],
   "source": []
  },
  {
   "cell_type": "code",
   "execution_count": null,
   "id": "91c7722d-9eb8-481c-bcbb-2f1e0600a3e3",
   "metadata": {},
   "outputs": [],
   "source": []
  },
  {
   "cell_type": "code",
   "execution_count": null,
   "id": "dd4bac1a-402c-48ef-9055-03ab66aeef88",
   "metadata": {},
   "outputs": [],
   "source": []
  },
  {
   "cell_type": "code",
   "execution_count": null,
   "id": "ccf7ddbe-8023-4204-b9d1-4c6cab3a3378",
   "metadata": {},
   "outputs": [],
   "source": []
  },
  {
   "cell_type": "code",
   "execution_count": null,
   "id": "f24a9303-e14e-49cf-8951-5c6205ae4e23",
   "metadata": {},
   "outputs": [],
   "source": []
  },
  {
   "cell_type": "code",
   "execution_count": null,
   "id": "2d98b646-0465-4b4e-aca5-26555505a432",
   "metadata": {},
   "outputs": [],
   "source": []
  }
 ],
 "metadata": {
  "kernelspec": {
   "display_name": "Python 3 (ipykernel)",
   "language": "python",
   "name": "python3"
  },
  "language_info": {
   "codemirror_mode": {
    "name": "ipython",
    "version": 3
   },
   "file_extension": ".py",
   "mimetype": "text/x-python",
   "name": "python",
   "nbconvert_exporter": "python",
   "pygments_lexer": "ipython3",
   "version": "3.9.13"
  }
 },
 "nbformat": 4,
 "nbformat_minor": 5
}
