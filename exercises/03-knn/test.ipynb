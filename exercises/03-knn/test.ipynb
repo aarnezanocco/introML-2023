{
 "cells": [
  {
   "cell_type": "code",
   "execution_count": 97,
   "id": "5fb33082-5622-4ae0-8650-a2fdd92fb239",
   "metadata": {},
   "outputs": [
    {
     "name": "stdout",
     "output_type": "stream",
     "text": [
      "[  44.73442623 4184.22131148] [  5.30537572 725.93354833]\n",
      "Manhattan: [4.2 2.7 2.2]\n",
      "Euclidean: [3.1 2.  2. ]\n",
      "1\n",
      "Predicted labels: [1 1 2 1 2 0]\n"
     ]
    }
   ],
   "source": [
    "import numpy as np\n",
    "import matplotlib.pyplot as plt\n",
    "import pandas as pd\n",
    "from typing import Any, Callable\n",
    "import helpers\n",
    "\n",
    "labeled_df = pd.read_csv('data/labeled_penguins.csv')\n",
    "\n",
    "labeled_df.head(5)\n",
    "\n",
    "X_train, y_train, X_val, y_val, X_test, y_test, feature_names, label_map = helpers.preprocess_data(df=labeled_df, label=\"species\", train_size=0.6, val_size=0.2, seed=42)\n",
    "unlabeled_df = pd.read_csv('data/unlabeled_penguins.csv')\n",
    "\n",
    "unlabeled_df.head(5)\n",
    "\n",
    "X_unlabeled = unlabeled_df.to_numpy()\n",
    "\n",
    "mean=(sum(X_train[:,])/len(X_train))\n",
    "std=(((sum(X_train[:,]**2)-len(X_train)*(mean**2)))/(len(X_train)))**0.5\n",
    "print(mean,std)\n",
    "\n",
    "def normalize(X: np.ndarray, mean: np.ndarray, std: np.ndarray):\n",
    "    X_normalized = (X-mean)/(std)\n",
    "    return X_normalized\n",
    "\n",
    "feature_names = ['Bill length (normalized)', 'Body mass (normalized)']\n",
    "\n",
    "X_train = normalize(X_train, mean, std)\n",
    "X_val = normalize(X_val, mean, std)\n",
    "X_test = normalize(X_test, mean, std)\n",
    "X_unlabeled = normalize(X_unlabeled, mean, std)\n",
    "\n",
    "def manhattan_dist(sample: np.ndarray, X: np.ndarray):\n",
    "    distances = sum((abs(sample-X)).T)\n",
    "    return distances\n",
    "   \n",
    "def euclidean_dist(sample: np.ndarray, X: np.ndarray):\n",
    "    distances = (sum(((sample-X)**2).T))**0.5\n",
    "    return distances\n",
    "\n",
    "print(f'Manhattan: {np.round(manhattan_dist(X_val[0], X_train[:3]), decimals=1)}')\n",
    "print(f'Euclidean: {np.round(euclidean_dist(X_val[0], X_train[:3]), decimals=1)}')\n",
    "\n",
    "def find_nearest_neighbors(\n",
    "    sample: np.ndarray, \n",
    "    X: np.ndarray, \n",
    "    distance_fn: Callable = euclidean_dist, \n",
    "    k: int = 1):\n",
    "    neighbor_indices=np.argsort(distance_fn(sample,X))[0:k]\n",
    "    return neighbor_indices\n",
    "\n",
    "#print(find_nearest_neighbors(X_val[0], X_train,k=24))\n",
    "#neighbor_indices = find_nearest_neighbors(sample, X_train,k=1)\n",
    "#helpers.plot_nearest_neighbors(sample, X_train, y_train, neighbor_indices, label_map, feature_names)\n",
    "\n",
    "def predict_single(\n",
    "    sample: np.ndarray, \n",
    "    X: np.ndarray, \n",
    "    y: np.ndarray, \n",
    "    distance_fn: Callable, \n",
    "    k: int = 1):\n",
    "    \n",
    "    l=np.array([y[find_nearest_neighbors(sample,X,distance_fn,k)],find_nearest_neighbors(sample,X,distance_fn,k)])\n",
    "    predicted_labels=np.argmax(np.bincount(l[0]))\n",
    "    return predicted_labels\n",
    "\n",
    "print(predict_single(X_val[0], X_train, y_train, euclidean_dist, 5))\n",
    "\n",
    "# With for-loop\n",
    "def predict(\n",
    "    samples: np.ndarray, \n",
    "    X: np.ndarray = X_train, \n",
    "    y: np.ndarray = y_train, \n",
    "    distance_fn: Callable = euclidean_dist, \n",
    "    k: int = 1):\n",
    "    \n",
    "    predicted_labels = np.array([predict_single(i,X,y,distance_fn,k) for i in samples])\n",
    "    \n",
    "    return predicted_labels\n",
    "\n",
    "print(f'Predicted labels: {predict(X_val[:6], X_train, y_train, euclidean_dist, 5)}')\n"
   ]
  },
  {
   "cell_type": "code",
   "execution_count": null,
   "id": "7e3512c3-c48a-4788-b24e-dfc211f41e5a",
   "metadata": {},
   "outputs": [],
   "source": []
  },
  {
   "cell_type": "code",
   "execution_count": null,
   "id": "6b9196d1-35f5-401b-bf19-c1403296cab2",
   "metadata": {},
   "outputs": [],
   "source": []
  },
  {
   "cell_type": "code",
   "execution_count": null,
   "id": "4481ba26-ce53-4898-9354-132c5acd382a",
   "metadata": {},
   "outputs": [],
   "source": []
  },
  {
   "cell_type": "code",
   "execution_count": null,
   "id": "91c7722d-9eb8-481c-bcbb-2f1e0600a3e3",
   "metadata": {},
   "outputs": [],
   "source": []
  },
  {
   "cell_type": "code",
   "execution_count": null,
   "id": "dd4bac1a-402c-48ef-9055-03ab66aeef88",
   "metadata": {},
   "outputs": [],
   "source": []
  },
  {
   "cell_type": "code",
   "execution_count": null,
   "id": "ccf7ddbe-8023-4204-b9d1-4c6cab3a3378",
   "metadata": {},
   "outputs": [],
   "source": []
  },
  {
   "cell_type": "code",
   "execution_count": null,
   "id": "f24a9303-e14e-49cf-8951-5c6205ae4e23",
   "metadata": {},
   "outputs": [],
   "source": []
  },
  {
   "cell_type": "code",
   "execution_count": null,
   "id": "2d98b646-0465-4b4e-aca5-26555505a432",
   "metadata": {},
   "outputs": [],
   "source": []
  }
 ],
 "metadata": {
  "kernelspec": {
   "display_name": "Python 3 (ipykernel)",
   "language": "python",
   "name": "python3"
  },
  "language_info": {
   "codemirror_mode": {
    "name": "ipython",
    "version": 3
   },
   "file_extension": ".py",
   "mimetype": "text/x-python",
   "name": "python",
   "nbconvert_exporter": "python",
   "pygments_lexer": "ipython3",
   "version": "3.9.13"
  }
 },
 "nbformat": 4,
 "nbformat_minor": 5
}
