{
 "cells": [
  {
   "cell_type": "code",
   "execution_count": 85,
   "id": "5fb33082-5622-4ae0-8650-a2fdd92fb239",
   "metadata": {},
   "outputs": [
    {
     "ename": "SyntaxError",
     "evalue": "invalid syntax (661294394.py, line 49)",
     "output_type": "error",
     "traceback": [
      "\u001b[1;36m  File \u001b[1;32m\"C:\\Users\\aarne\\AppData\\Local\\Temp\\ipykernel_9984\\661294394.py\"\u001b[1;36m, line \u001b[1;32m49\u001b[0m\n\u001b[1;33m    distances = np.array([sum(abs(sample[0,i]-X[,j]))\u001b[0m\n\u001b[1;37m                                                ^\u001b[0m\n\u001b[1;31mSyntaxError\u001b[0m\u001b[1;31m:\u001b[0m invalid syntax\n"
     ]
    }
   ],
   "source": [
    "import numpy as np\n",
    "import matplotlib.pyplot as plt\n",
    "import pandas as pd\n",
    "from typing import Any, Callable\n",
    "import helpers\n",
    "\n",
    "labeled_df = pd.read_csv('data/labeled_penguins.csv')\n",
    "\n",
    "labeled_df.head(5)\n",
    "\n",
    "X_train, y_train, X_val, y_val, X_test, y_test, feature_names, label_map = helpers.preprocess_data(df=labeled_df, label=\"species\", train_size=0.6, val_size=0.2, seed=42)\n",
    "unlabeled_df = pd.read_csv('data/unlabeled_penguins.csv')\n",
    "\n",
    "unlabeled_df.head(5)\n",
    "\n",
    "X_unlabeled = unlabeled_df.to_numpy()\n",
    "\n",
    "# Plot training data with labels\n",
    "#helpers.plot_labeled(X_train, y_train, label_map, feature_names, title=\"Training data\")\n",
    "# Plot validation data with labels\n",
    "#helpers.plot_labeled(X_val, y_val, label_map, feature_names, title=\"Validation data\")\n",
    "# Plot test data with labels\n",
    "#helpers.plot_labeled(X_test, y_test, label_map, feature_names, title=\"Test data\")\n",
    "# Plot unlabeled data\n",
    "#helpers.plot_unlabeled(X_unlabeled, feature_names, title=\"Unlabeled data\")\n",
    "\n",
    "mean=(sum(X_train[:,])/len(X_train))\n",
    "std=((((sum(X_train[:,]))**2-mean**2))/(len(X_train)-1))**(0.5)\n",
    "print(mean,std)\n",
    "def normalize(X: np.ndarray, mean: np.ndarray, std: np.ndarray):\n",
    "    X_normalized = (X-mean)/(std)\n",
    "    return X_normalized\n",
    "\n",
    "feature_names = ['Bill length (normalized)', 'Body mass (normalized)']\n",
    "\n",
    "X_train = normalize(X_train, mean, std)\n",
    "X_val = normalize(X_val, mean, std)\n",
    "X_test = normalize(X_test, mean, std)\n",
    "X_unlabeled = normalize(X_unlabeled, mean, std)\n",
    "\n",
    "if (np.allclose(X_train.mean(axis=0), np.zeros_like(X_train)) and (np.allclose(X_train.std(axis=0), np.ones_like(X_train)))):\n",
    "    print(\"All good!\")\n",
    "else:\n",
    "    print(\"normalize() doesn't work correctly :(\")\n",
    "#print(X_train,X_val,X_test,X_unlabeled)\n",
    "#helpers.plot_labeled(X_train, y_train, label_map, feature_names, title=\"Training data\")\n",
    "\n",
    "def manhattan_dist(sample: np.ndarray, X: np.ndarray): \n",
    "    distances = np.array([sum(abs(sample[0,i]-X[,j]))\n",
    "    return distances\n",
    "   \n",
    "def euclidean_dist(sample: np.ndarray, X: np.ndarray):\n",
    "    distances = sum((sample-X)**2)**0.5 \n",
    "    return distances\n",
    "print(X_val[0])\n",
    "print(X_train[:3])                        \n",
    "#print(f'Manhattan: {np.round(manhattan_dist(X_val[0], X_train[:3]), decimals=1)}')\n",
    "#print(f'Euclidean: {np.round(euclidean_dist(X_val[0], X_train[:3]), decimals=1)}')"
   ]
  },
  {
   "cell_type": "code",
   "execution_count": null,
   "id": "7e3512c3-c48a-4788-b24e-dfc211f41e5a",
   "metadata": {},
   "outputs": [],
   "source": []
  },
  {
   "cell_type": "code",
   "execution_count": null,
   "id": "6b9196d1-35f5-401b-bf19-c1403296cab2",
   "metadata": {},
   "outputs": [],
   "source": []
  },
  {
   "cell_type": "code",
   "execution_count": null,
   "id": "4481ba26-ce53-4898-9354-132c5acd382a",
   "metadata": {},
   "outputs": [],
   "source": []
  }
 ],
 "metadata": {
  "kernelspec": {
   "display_name": "Python 3 (ipykernel)",
   "language": "python",
   "name": "python3"
  },
  "language_info": {
   "codemirror_mode": {
    "name": "ipython",
    "version": 3
   },
   "file_extension": ".py",
   "mimetype": "text/x-python",
   "name": "python",
   "nbconvert_exporter": "python",
   "pygments_lexer": "ipython3",
   "version": "3.9.13"
  }
 },
 "nbformat": 4,
 "nbformat_minor": 5
}
