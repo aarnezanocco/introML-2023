{
 "cells": [
  {
   "cell_type": "code",
   "execution_count": 6,
   "id": "18cfbd73-d357-44af-b988-818dfa48ca9c",
   "metadata": {},
   "outputs": [
    {
     "name": "stdout",
     "output_type": "stream",
     "text": [
      "All good!\n",
      "Predicted labels: [1 1 2 1 2 0]\n"
     ]
    }
   ],
   "source": [
    "import numpy as np\n",
    "import matplotlib.pyplot as plt\n",
    "import pandas as pd\n",
    "from typing import Any, Callable\n",
    "import helpers\n",
    "\n",
    "labeled_df = pd.read_csv('data/labeled_penguins.csv')\n",
    "unlabeled_df = pd.read_csv('data/unlabeled_penguins.csv')\n",
    "X_train, y_train, X_val, y_val, X_test, y_test, feature_names, label_map = helpers.preprocess_data(df=labeled_df, label=\"species\", train_size=0.6, val_size=0.2, seed=42)\n",
    "X_unlabeled = unlabeled_df.to_numpy()\n",
    "\n",
    "mean=(sum(X_train[:,])/len(X_train))\n",
    "std=(((sum(X_train[:,]**2)-len(X_train)*(mean**2)))/(len(X_train)))**0.5\n",
    "\n",
    "def normalize(X: np.ndarray, mean: np.ndarray, std: np.ndarray):\n",
    "    X_normalized = (X-mean)/(std)\n",
    "    return X_normalized\n",
    "\n",
    "feature_names = ['Bill length (normalized)', 'Body mass (normalized)']\n",
    "\n",
    "X_train = normalize(X_train, mean, std)\n",
    "X_val = normalize(X_val, mean, std)\n",
    "X_test = normalize(X_test, mean, std)\n",
    "X_unlabeled = normalize(X_unlabeled, mean, std)\n",
    "\n",
    "if (np.allclose(X_train.mean(axis=0), np.zeros_like(X_train)) and (np.allclose(X_train.std(axis=0), np.ones_like(X_train)))):\n",
    "    print(\"All good!\")\n",
    "else:\n",
    "    print(\"normalize() doesn't work correctly :(\")\n",
    "    \n",
    "#print(X_train,X_val,X_test,X_unlabeled)\n",
    "#helpers.plot_labeled(X_train, y_train, label_map, feature_names, title=\"Training data\")\n",
    "\n",
    "def manhattan_dist(sample: np.ndarray, X: np.ndarray):\n",
    "    distances = sum((abs(sample-X)).T)\n",
    "    return distances\n",
    "   \n",
    "def euclidean_dist(sample: np.ndarray, X: np.ndarray):\n",
    "    distances = (sum(((sample-X)**2).T))**0.5\n",
    "    return distances\n",
    "\n",
    "def find_nearest_neighbors(\n",
    "    sample: np.ndarray, \n",
    "    X: np.ndarray, \n",
    "    distance_fn: Callable = euclidean_dist, \n",
    "    k: int = 1):\n",
    "    neighbor_indices=np.argsort(distance_fn(sample,X))[0:k]\n",
    "    return neighbor_indices\n",
    "\n",
    "def predict_single(\n",
    "    sample: np.ndarray, \n",
    "    X: np.ndarray, \n",
    "    y: np.ndarray, \n",
    "    distance_fn: Callable, \n",
    "    k: int = 1):\n",
    "    \n",
    "    l=np.stack((y[find_nearest_neighbors(sample,X,distance_fn,k)],find_nearest_neighbors(sample,X,distance_fn,k)))\n",
    "    predicted_labels=np.argmax(np.bincount(l[0]))\n",
    "    return predicted_labels\n",
    "\n",
    "def predict(\n",
    "    samples: np.ndarray, \n",
    "    X: np.ndarray = X_train, \n",
    "    y: np.ndarray = y_train, \n",
    "    distance_fn: Callable = euclidean_dist, \n",
    "    k: int = 1):\n",
    "    \n",
    "    predicted_labels = np.array([predict_single(i,X,y,distance_fn,k) for i in samples])\n",
    "    \n",
    "    return predicted_labels\n",
    "\n",
    "print(f'Predicted labels: {predict(X_val[:6], X_train, y_train, euclidean_dist, 5)}')\n"
   ]
  },
  {
   "cell_type": "code",
   "execution_count": null,
   "id": "25be14a8-d37c-4c73-9690-4aa00f2b918e",
   "metadata": {},
   "outputs": [],
   "source": []
  },
  {
   "cell_type": "code",
   "execution_count": null,
   "id": "4f975aab-e26b-4bff-814b-5f30178a787b",
   "metadata": {},
   "outputs": [],
   "source": []
  },
  {
   "cell_type": "code",
   "execution_count": null,
   "id": "67a5270b-bbc9-4a64-90ff-37c3ffe7e1d1",
   "metadata": {},
   "outputs": [],
   "source": []
  },
  {
   "cell_type": "code",
   "execution_count": null,
   "id": "e51a033e-f5ee-494a-a9a4-85761e2c2c62",
   "metadata": {},
   "outputs": [],
   "source": []
  }
 ],
 "metadata": {
  "kernelspec": {
   "display_name": "Python 3 (ipykernel)",
   "language": "python",
   "name": "python3"
  },
  "language_info": {
   "codemirror_mode": {
    "name": "ipython",
    "version": 3
   },
   "file_extension": ".py",
   "mimetype": "text/x-python",
   "name": "python",
   "nbconvert_exporter": "python",
   "pygments_lexer": "ipython3",
   "version": "3.9.13"
  }
 },
 "nbformat": 4,
 "nbformat_minor": 5
}
