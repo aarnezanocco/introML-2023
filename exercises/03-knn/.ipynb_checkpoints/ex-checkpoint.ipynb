{
 "cells": [
  {
   "cell_type": "code",
   "execution_count": null,
   "id": "18cfbd73-d357-44af-b988-818dfa48ca9c",
   "metadata": {},
   "outputs": [],
   "source": [
    "import numpy as np\n",
    "import matplotlib.pyplot as plt\n",
    "import pandas as pd\n",
    "from typing import Any, Callable\n",
    "import helpers\n",
    "\n",
    "labeled_df = pd.read_csv('data/labeled_penguins.csv')\n",
    "unlabeled_df = pd.read_csv('data/unlabeled_penguins.csv')\n",
    "X_train, y_train, X_val, y_val, X_test, y_test, feature_names, label_map = helpers.preprocess_data(df=labeled_df, label=\"species\", train_size=0.6, val_size=0.2, seed=42)\n",
    "X_unlabeled = unlabeled_df.to_numpy()"
   ]
  }
 ],
 "metadata": {
  "kernelspec": {
   "display_name": "Python 3 (ipykernel)",
   "language": "python",
   "name": "python3"
  },
  "language_info": {
   "codemirror_mode": {
    "name": "ipython",
    "version": 3
   },
   "file_extension": ".py",
   "mimetype": "text/x-python",
   "name": "python",
   "nbconvert_exporter": "python",
   "pygments_lexer": "ipython3",
   "version": "3.9.13"
  }
 },
 "nbformat": 4,
 "nbformat_minor": 5
}
