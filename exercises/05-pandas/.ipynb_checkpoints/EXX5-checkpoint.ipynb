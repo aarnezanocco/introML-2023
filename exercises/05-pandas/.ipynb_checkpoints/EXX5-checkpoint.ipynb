{
 "cells": [
  {
   "cell_type": "code",
   "execution_count": 88,
   "id": "5a27f3b7-d271-45f9-872f-e68dfbe4ed80",
   "metadata": {},
   "outputs": [
    {
     "name": "stdout",
     "output_type": "stream",
     "text": [
      "<class 'pandas.core.frame.DataFrame'>\n",
      "RangeIndex: 891 entries, 0 to 890\n",
      "Data columns (total 22 columns):\n",
      " #   Column                   Non-Null Count  Dtype  \n",
      "---  ------                   --------------  -----  \n",
      " 0   survived                 891 non-null    int64  \n",
      " 1   pclass                   891 non-null    int64  \n",
      " 2   age                      714 non-null    float64\n",
      " 3   sibsp                    891 non-null    int64  \n",
      " 4   parch                    891 non-null    int64  \n",
      " 5   fare                     891 non-null    float64\n",
      " 6   alone                    891 non-null    bool   \n",
      " 7   sex_female               891 non-null    uint8  \n",
      " 8   sex_male                 891 non-null    uint8  \n",
      " 9   embark_town_Cherbourg    891 non-null    uint8  \n",
      " 10  embark_town_Queenstown   891 non-null    uint8  \n",
      " 11  embark_town_Southampton  891 non-null    uint8  \n",
      " 12  deck_A                   891 non-null    uint8  \n",
      " 13  deck_B                   891 non-null    uint8  \n",
      " 14  deck_C                   891 non-null    uint8  \n",
      " 15  deck_D                   891 non-null    uint8  \n",
      " 16  deck_E                   891 non-null    uint8  \n",
      " 17  deck_F                   891 non-null    uint8  \n",
      " 18  deck_G                   891 non-null    uint8  \n",
      " 19  who_child                891 non-null    uint8  \n",
      " 20  who_man                  891 non-null    uint8  \n",
      " 21  who_woman                891 non-null    uint8  \n",
      "dtypes: bool(1), float64(2), int64(4), uint8(15)\n",
      "memory usage: 55.8 KB\n"
     ]
    },
    {
     "data": {
      "text/plain": [
       "array([0, 1, 1], dtype=int64)"
      ]
     },
     "execution_count": 88,
     "metadata": {},
     "output_type": "execute_result"
    }
   ],
   "source": [
    "import numpy as np\n",
    "import pandas as pd\n",
    "import matplotlib.pyplot as plt\n",
    "import seaborn as sns\n",
    "\n",
    "data = np.array([[21, 184], [19, 168], [36, 178], [34, 175], [63, 159], [25, 165]])\n",
    "# df is an abbrevation of DataFrame\n",
    "df = pd.DataFrame(data=data, columns=[\"age\", \"height (cm)\"])\n",
    "df[\"sex\"] = [\"M\", \"F\", \"M\", \"F\", \"F\", \"M\"]\n",
    "df[\"height (m)\"] = df[\"height (cm)\"] / 100\n",
    "df\n",
    "# In the df DataFrame, show me only the rows in which the \"sex\" column is \"F\"\n",
    "df[df[\"sex\"] == \"F\"]\n",
    "# In the df DataFrame, show me only the rows in which the \"sex\" column is \"M\" AND (&) the \"age\" is below 30\n",
    "df[(df[\"sex\"] == \"M\") & (df[\"age\"] < 30)]\n",
    "# In the df DataFrame, show me only the rows in which the \"sex\" column is \"F\" OR (|) in which (the \"sex\" column is \"M\" AND (&) the age is below 30)\n",
    "df[(df[\"sex\"] == \"F\") | ((df[\"sex\"] == \"M\") & (df[\"age\"] < 30))]\n",
    "# Sort values by age in ascending order\n",
    "df.sort_values(by=\"age\")\n",
    "# Sort values first by sex, then by age in descending order\n",
    "df.sort_values(by=[\"sex\", \"age\"], ascending=False)\n",
    "df.groupby(\"sex\")[\"height (cm)\"].mean()\n",
    "# index=False means we don't want to add our index to the CSV file\n",
    "df.to_csv(\"demo_df.csv\", index=False)\n",
    "titanic = pd.read_csv(\"data/titanic.csv\")\n",
    "titanic.head(5)\n",
    "titanic[\"who\"].unique()\n",
    "titanic[\"embarked\"].unique()\n",
    "titanic[\"embark_town\"].unique()\n",
    "titanic[\"alive\"].unique()\n",
    "titanic[\"deck\"].unique()\n",
    "titanic[(titanic[\"survived\"] == 1) & (titanic[\"alive\"] == \"yes\")]\n",
    "titanic[(titanic[\"survived\"] == 1) & (titanic[\"alive\"] == \"no\")]\n",
    "((titanic[\"alive\"] == \"yes\") == (titanic[\"survived\"] == 1)).all()\n",
    "((titanic[\"alive\"] == \"no\") == (titanic[\"survived\"] == 0)).all()\n",
    "keep_cols = [\"survived\", \"pclass\", \"sex\", \"age\", \"sibsp\", \"parch\", \"fare\", \"embark_town\", \"deck\", \"who\", \"alone\"]\n",
    "titanic = titanic[keep_cols].copy()\n",
    "# Let's make a copy of the dataframe called `titanic_ml` to prevent destructive changes\n",
    "titanic_ml = titanic.copy()\n",
    "# Find which columns have missing values\n",
    "titanic_ml.isna().any()\n",
    "# Alternative approach: check non-null count, which also informs us of how many values are NaN\n",
    "titanic_ml = pd.get_dummies(titanic_ml)\n",
    "titanic_ml\n",
    "titanic_ml.info()\n",
    "X = titanic_ml.drop(columns=\"survived\").astype(float).to_numpy()\n",
    "y = titanic_ml[\"survived\"].to_numpy()\n",
    "X[0:3]\n",
    "X.shape\n",
    "y[0:3]"
   ]
  },
  {
   "cell_type": "code",
   "execution_count": null,
   "id": "3ac4a224-ec56-48b2-8b63-e0f9d4bf31f5",
   "metadata": {},
   "outputs": [],
   "source": []
  },
  {
   "cell_type": "code",
   "execution_count": null,
   "id": "97de641b-fae9-4342-bed0-f664f6c937bb",
   "metadata": {},
   "outputs": [],
   "source": []
  },
  {
   "cell_type": "code",
   "execution_count": null,
   "id": "74dca223-3cc3-4c8e-8127-d30a508c0b0e",
   "metadata": {},
   "outputs": [],
   "source": []
  },
  {
   "cell_type": "code",
   "execution_count": null,
   "id": "f4361efa-6333-4b22-b1d5-70f63e96360b",
   "metadata": {},
   "outputs": [],
   "source": []
  }
 ],
 "metadata": {
  "kernelspec": {
   "display_name": "Python 3 (ipykernel)",
   "language": "python",
   "name": "python3"
  },
  "language_info": {
   "codemirror_mode": {
    "name": "ipython",
    "version": 3
   },
   "file_extension": ".py",
   "mimetype": "text/x-python",
   "name": "python",
   "nbconvert_exporter": "python",
   "pygments_lexer": "ipython3",
   "version": "3.9.13"
  }
 },
 "nbformat": 4,
 "nbformat_minor": 5
}
