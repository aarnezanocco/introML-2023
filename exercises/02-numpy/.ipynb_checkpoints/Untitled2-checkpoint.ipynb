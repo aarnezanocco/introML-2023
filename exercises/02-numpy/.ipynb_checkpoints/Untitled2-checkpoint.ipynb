{
 "cells": [
  {
   "cell_type": "code",
   "execution_count": 4,
   "id": "e8d9e4ae-18e9-4fc7-be1a-021db3f6febc",
   "metadata": {},
   "outputs": [
    {
     "name": "stdout",
     "output_type": "stream",
     "text": [
      "None\n",
      "[ 0  1  2  3  4  5  6  7  8  9 10]\n",
      "[ 5  4  1  2  9  6  7  0  3  8 10]\n",
      "Permuted array:\n",
      "None\n",
      "\n"
     ]
    }
   ],
   "source": [
    "import numpy as np\n",
    "import matplotlib.pyplot as plt\n",
    "from numpy import random\n",
    "\n",
    "constant = 3  # Any we want\n",
    "print(np.random.seed(constant))\n",
    "\n",
    "x=np.arange(11)\n",
    "print(x)\n",
    "np.random.shuffle(x)  # <<< YOUR CODE HERE\n",
    "print(x)\n",
    "print(f'Permuted array:\\n{x}\\n')\n"
   ]
  },
  {
   "cell_type": "code",
   "execution_count": null,
   "id": "ab2206a6-b292-4de5-9064-df46df6cf969",
   "metadata": {},
   "outputs": [],
   "source": []
  },
  {
   "cell_type": "code",
   "execution_count": null,
   "id": "815d18e8-a61d-4052-a5bf-cee93e384210",
   "metadata": {},
   "outputs": [],
   "source": []
  },
  {
   "cell_type": "code",
   "execution_count": null,
   "id": "bbd6c72a-9041-42f1-9f1f-93c59c01683e",
   "metadata": {},
   "outputs": [],
   "source": []
  },
  {
   "cell_type": "code",
   "execution_count": null,
   "id": "2ddee907-f9c4-475b-a7a4-e5a789fd98d8",
   "metadata": {},
   "outputs": [],
   "source": []
  },
  {
   "cell_type": "code",
   "execution_count": null,
   "id": "1579b6ff-0c63-421b-ac45-d039ff2e880d",
   "metadata": {},
   "outputs": [],
   "source": []
  },
  {
   "cell_type": "code",
   "execution_count": null,
   "id": "48d8801a-3242-4d6e-b51b-5e600c2905f9",
   "metadata": {},
   "outputs": [],
   "source": []
  },
  {
   "cell_type": "code",
   "execution_count": null,
   "id": "51af6dc9-c874-4750-a1b0-95df0d6035ad",
   "metadata": {},
   "outputs": [],
   "source": []
  }
 ],
 "metadata": {
  "kernelspec": {
   "display_name": "Python 3 (ipykernel)",
   "language": "python",
   "name": "python3"
  },
  "language_info": {
   "codemirror_mode": {
    "name": "ipython",
    "version": 3
   },
   "file_extension": ".py",
   "mimetype": "text/x-python",
   "name": "python",
   "nbconvert_exporter": "python",
   "pygments_lexer": "ipython3",
   "version": "3.9.13"
  }
 },
 "nbformat": 4,
 "nbformat_minor": 5
}
