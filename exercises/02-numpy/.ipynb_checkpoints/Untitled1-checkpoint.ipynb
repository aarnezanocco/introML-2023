{
 "cells": [
  {
   "cell_type": "code",
   "execution_count": 13,
   "id": "48149e4b-928a-4ff5-8bcf-fee3ca563f4b",
   "metadata": {},
   "outputs": [
    {
     "name": "stdout",
     "output_type": "stream",
     "text": [
      "array_pi:\n",
      "[3.14 3.14 3.14 3.14 3.14 3.14 3.14 3.14 3.14 3.14]\n",
      "\n",
      "Number of elements in x: 6720\n",
      "Shape of x_flat: (36,)\n",
      "Array x:\n",
      "[[ 1  2  3  4  5  6]\n",
      " [ 7  8  9 10 11 12]\n",
      " [13 14 15 16 17 18]\n",
      " [19 20 21 22 23 24]\n",
      " [25 26 27 28 29 30]]\n",
      "\n",
      "red:\n",
      "[[ 1  6]\n",
      " [ 7 12]\n",
      " [13 18]\n",
      " [19 24]\n",
      " [25 30]]\n",
      "\n",
      "green:\n",
      "[15 16 17]\n",
      "\n",
      "blue:\n",
      "[[ 2  3]\n",
      " [14 15]\n",
      " [26 27]]\n",
      "\n",
      "bonus:\n",
      "[[29 28]\n",
      " [11 10]]\n",
      "\n"
     ]
    }
   ],
   "source": [
    "import numpy as np\n",
    "\n",
    "## Create a 1D array of 10 elements of type float32 filled with a value 3.14.\n",
    "## Hint: Use np.ones or np.full.\n",
    "\n",
    "array_pi = np.array([3.14]*10,dtype=np.float32)  # <<< YOUR CODE HERE\n",
    "print(f'array_pi:\\n{array_pi}\\n')\n",
    "\n",
    "## Find number of elements in the following array without using `size` property.\n",
    "## Hint: Use np.prod.\n",
    "x = np.zeros((4, 5, 6, 7, 8))\n",
    "num_elements = 1  # <<< YOUR CODE HERE\n",
    "for i in x.shape:\n",
    "    num_elements*=i\n",
    "    \n",
    "print(f'Number of elements in x: {num_elements}')\n",
    "\n",
    "x_unknown = np.zeros(np.random.randint(1, 5, 6))\n",
    "\n",
    "x_flat = x_unknown.reshape(-1)  # <<< YOUR CODE HERE\n",
    "print(f'Shape of x_flat: {x_flat.shape}')\n",
    "\n",
    "# Check the answers:\n",
    "assert(array_pi.shape == (10, ) and array_pi.dtype == np.float32 and np.allclose(array_pi, 3.14))\n",
    "assert(num_elements == x.size)\n",
    "assert(x_flat.ndim == 1)\n",
    "\n",
    "# Create a 2D array and print it out.\n",
    "x = np.arange(1, 31).reshape((5, 6))\n",
    "print(f'Array x:\\n{x}\\n')\n",
    "\n",
    "# Select the subarrays\n",
    "red=np.arange(1, 11).reshape((5, 2))\n",
    "red=x[:,::5]\n",
    "print(f'red:\\n{red}\\n')\n",
    "\n",
    "green=np.arange(1, 4).reshape((1, 3))\n",
    "green=x[2,2:5]\n",
    "print(f'green:\\n{green}\\n')\n",
    "\n",
    "blue=np.arange(1, 7).reshape((3, 2))\n",
    "blue=x[::2,1:3]\n",
    "print(f'blue:\\n{blue}\\n')\n",
    "\n",
    "# Bonus: Come up with indexing which selects from x the following submatrix:\n",
    "# [[29, 28], \n",
    "#  [11, 10]].\n",
    "\n",
    "bonus=np.arange(1, 5).reshape((2, 2))\n",
    "bonus=x[-1::-3,-2:-4:-1]\n",
    "print(f'bonus:\\n{bonus}\\n')\n",
    "\n",
    "# Check the results:\n",
    "assert(np.allclose(red, np.array([[1, 6], [7, 12], [13, 18], [19, 24], [25, 30]])))\n",
    "assert(np.allclose(green, np.array([15, 16, 17])))\n",
    "assert(np.allclose(blue, np.array([[2, 3], [14, 15], [26, 27]])))\n",
    "assert(np.allclose(bonus, np.array([[29, 28], [11, 10]])))"
   ]
  },
  {
   "cell_type": "code",
   "execution_count": null,
   "id": "93e18bf2-0137-4db5-bbb4-7acc6820856c",
   "metadata": {},
   "outputs": [],
   "source": []
  },
  {
   "cell_type": "code",
   "execution_count": null,
   "id": "275e1143-4593-4ee9-8095-727dcbc8a1c8",
   "metadata": {},
   "outputs": [],
   "source": []
  },
  {
   "cell_type": "code",
   "execution_count": null,
   "id": "4bc42ff6-f077-4975-bae1-a804fc0fed07",
   "metadata": {},
   "outputs": [],
   "source": []
  },
  {
   "cell_type": "code",
   "execution_count": null,
   "id": "bf9629b3-f15c-420f-b22c-41ce8a953027",
   "metadata": {},
   "outputs": [],
   "source": []
  },
  {
   "cell_type": "code",
   "execution_count": null,
   "id": "ad4dc055-0282-43f5-b9ab-a501abf628ef",
   "metadata": {},
   "outputs": [],
   "source": []
  }
 ],
 "metadata": {
  "kernelspec": {
   "display_name": "Python 3 (ipykernel)",
   "language": "python",
   "name": "python3"
  },
  "language_info": {
   "codemirror_mode": {
    "name": "ipython",
    "version": 3
   },
   "file_extension": ".py",
   "mimetype": "text/x-python",
   "name": "python",
   "nbconvert_exporter": "python",
   "pygments_lexer": "ipython3",
   "version": "3.9.13"
  }
 },
 "nbformat": 4,
 "nbformat_minor": 5
}
