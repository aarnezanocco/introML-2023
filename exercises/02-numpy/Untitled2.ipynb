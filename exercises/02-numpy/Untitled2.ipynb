{
 "cells": [
  {
   "cell_type": "code",
   "execution_count": 12,
   "id": "e8d9e4ae-18e9-4fc7-be1a-021db3f6febc",
   "metadata": {},
   "outputs": [
    {
     "name": "stdout",
     "output_type": "stream",
     "text": [
      "Array x:\n",
      "[[ 1  2  3  4  5  6]\n",
      " [ 7  8  9 10 11 12]\n",
      " [13 14 15 16 17 18]\n",
      " [19 20 21 22 23 24]\n",
      " [25 26 27 28 29 30]]\n",
      "\n",
      "mask:\n",
      "[[False  True  True  True False False]\n",
      " [False False False False False False]\n",
      " [False False  True False False False]\n",
      " [ True  True False False False False]\n",
      " [False False False False  True  True]]\n",
      "\n",
      "red:\n",
      "[ 2  3  4 15 19 20 29 30]\n",
      "\n",
      "green:\n",
      "[[ 1  6]\n",
      " [ 7 12]\n",
      " [13 18]\n",
      " [19 24]\n",
      " [25 30]]\n",
      "\n",
      "mask:\n",
      "[[False False False False False False]\n",
      " [False False False False False False]\n",
      " [False False False False False False]\n",
      " [False False False False False False]\n",
      " [False False  True  True  True  True]]\n",
      "\n",
      "bigger than 26:\n",
      "[27 28 29 30]\n",
      "\n",
      "mask:\n",
      "[[ True False  True False  True False]\n",
      " [ True False  True False  True False]\n",
      " [ True False  True False  True False]\n",
      " [ True False  True False  True False]\n",
      " [ True False  True False  True False]]\n",
      "\n",
      "odd:\n",
      "[ 1  3  5  7  9 11 13 15 17 19 21 23 25 27 29]\n",
      "\n",
      "[[1 2]\n",
      " [3 4]]\n"
     ]
    },
    {
     "ename": "AttributeError",
     "evalue": "'numpy.ndarray' object has no attribute 'zeros'",
     "output_type": "error",
     "traceback": [
      "\u001b[1;31m---------------------------------------------------------------------------\u001b[0m",
      "\u001b[1;31mAttributeError\u001b[0m                            Traceback (most recent call last)",
      "\u001b[1;32m~\\AppData\\Local\\Temp\\ipykernel_13592\\156789075.py\u001b[0m in \u001b[0;36m<module>\u001b[1;34m\u001b[0m\n\u001b[0;32m     42\u001b[0m \u001b[0mb\u001b[0m\u001b[1;33m=\u001b[0m\u001b[0mnp\u001b[0m\u001b[1;33m.\u001b[0m\u001b[0marange\u001b[0m\u001b[1;33m(\u001b[0m\u001b[1;36m1\u001b[0m\u001b[1;33m,\u001b[0m \u001b[1;36m5\u001b[0m\u001b[1;33m)\u001b[0m\u001b[1;33m.\u001b[0m\u001b[0mreshape\u001b[0m\u001b[1;33m(\u001b[0m\u001b[1;33m(\u001b[0m\u001b[1;36m2\u001b[0m\u001b[1;33m,\u001b[0m \u001b[1;36m2\u001b[0m\u001b[1;33m)\u001b[0m\u001b[1;33m)\u001b[0m\u001b[1;33m\u001b[0m\u001b[1;33m\u001b[0m\u001b[0m\n\u001b[0;32m     43\u001b[0m \u001b[0mprint\u001b[0m\u001b[1;33m(\u001b[0m\u001b[0mb\u001b[0m\u001b[1;33m)\u001b[0m\u001b[1;33m\u001b[0m\u001b[1;33m\u001b[0m\u001b[0m\n\u001b[1;32m---> 44\u001b[1;33m \u001b[0ms\u001b[0m\u001b[1;33m=\u001b[0m\u001b[0mb\u001b[0m\u001b[1;33m.\u001b[0m\u001b[0mzeros\u001b[0m\u001b[1;33m\u001b[0m\u001b[1;33m\u001b[0m\u001b[0m\n\u001b[0m\u001b[0;32m     45\u001b[0m \u001b[0mprint\u001b[0m\u001b[1;33m(\u001b[0m\u001b[0ms\u001b[0m\u001b[1;33m)\u001b[0m\u001b[1;33m\u001b[0m\u001b[1;33m\u001b[0m\u001b[0m\n",
      "\u001b[1;31mAttributeError\u001b[0m: 'numpy.ndarray' object has no attribute 'zeros'"
     ]
    }
   ],
   "source": [
    "import numpy as np\n",
    "\n",
    "# Create a 2D array, which will be used in the following cells, an print it out.\n",
    "x = np.arange(1, 31).reshape((5, 6))\n",
    "print(f'Array x:\\n{x}\\n')\n",
    "\n",
    "### Creating the mask manually.\n",
    "# Create a mask corresponding to the red squares.\n",
    "mask = np.zeros((5, 6), dtype=bool)\n",
    "mask[0, 1:4] = True\n",
    "mask[2, 2] = True\n",
    "mask[3, :2] = True\n",
    "mask[-1, -2:] = True\n",
    "print(f'mask:\\n{mask}\\n')\n",
    "\n",
    "# Select the values using a mask\n",
    "red = x[mask]\n",
    "print(f'red:\\n{red}\\n')\n",
    "\n",
    "# Combining traditional indexing/slicing and masking - select the green\n",
    "# columns. Not that the mask is a 1D array whose size is the\n",
    "# same as the size of the corresponding dimension of the original \n",
    "# array `x`.\n",
    "mask = np.array([True, False, False, False, False, True])\n",
    "green = x[:, mask]\n",
    "print(f'green:\\n{green}\\n')\n",
    "\n",
    "### Creating the mask using comparison operators.\n",
    "\n",
    "# Extract the values larger than 26.\n",
    "mask = x > 26\n",
    "sel = x[mask]\n",
    "print(f'mask:\\n{mask}\\n')\n",
    "print(f'bigger than 26:\\n{sel}\\n')\n",
    "\n",
    "# Extract the odd values.\n",
    "mask = (x % 2) == 1\n",
    "sel = x[mask]\n",
    "print(f'mask:\\n{mask}\\n')\n",
    "print(f'odd:\\n{sel}\\n')\n",
    "\n",
    "b=np.arange(1, 5).reshape((2, 2))\n",
    "print(b)"
   ]
  },
  {
   "cell_type": "code",
   "execution_count": null,
   "id": "ab2206a6-b292-4de5-9064-df46df6cf969",
   "metadata": {},
   "outputs": [],
   "source": []
  },
  {
   "cell_type": "code",
   "execution_count": null,
   "id": "815d18e8-a61d-4052-a5bf-cee93e384210",
   "metadata": {},
   "outputs": [],
   "source": []
  }
 ],
 "metadata": {
  "kernelspec": {
   "display_name": "Python 3 (ipykernel)",
   "language": "python",
   "name": "python3"
  },
  "language_info": {
   "codemirror_mode": {
    "name": "ipython",
    "version": 3
   },
   "file_extension": ".py",
   "mimetype": "text/x-python",
   "name": "python",
   "nbconvert_exporter": "python",
   "pygments_lexer": "ipython3",
   "version": "3.9.13"
  }
 },
 "nbformat": 4,
 "nbformat_minor": 5
}
