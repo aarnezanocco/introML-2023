{
 "cells": [
  {
   "cell_type": "code",
   "execution_count": 9,
   "id": "a5abdd41-85eb-4089-b39b-943f33aa922a",
   "metadata": {},
   "outputs": [
    {
     "name": "stdout",
     "output_type": "stream",
     "text": [
      "[2 3 4 5 6 7] [0 1]\n",
      "\n",
      "[0 1 4 5 6 7] [2 3]\n",
      "\n",
      "[0 1 2 3 6 7] [4 5]\n",
      "\n",
      "[0 1 2 3 4 5] [6 7]\n",
      "\n",
      "4\n"
     ]
    }
   ],
   "source": [
    "from typing import Tuple, List\n",
    "import pandas as pd\n",
    "import numpy as np\n",
    "import seaborn as sns\n",
    "import matplotlib.pyplot as plt\n",
    "import helpers\n",
    "def k_fold_indices(num_examples: int, k: int = 4) -> List[Tuple[np.ndarray, np.ndarray]]:\n",
    "    \"\"\"Generates indices for k-fold cross-validation\n",
    "\n",
    "    Args:\n",
    "        num_examples: Number of training examples\n",
    "        k: Number of folds\n",
    "\n",
    "    Returns:\n",
    "        List of tuples containing the training indices and validation indices\n",
    "\n",
    "    \"\"\"\n",
    "    indices = np.arange(num_examples)\n",
    "    split_size = num_examples // k\n",
    "    val_indices = [indices[k * split_size : (k + 1) * split_size] for k in range(k)]\n",
    "    both_indices = [(np.delete(indices, val_ind), val_ind) for val_ind in val_indices]\n",
    "    return both_indices\n",
    "\n",
    "# Example usage\n",
    "for train_index, val_index in k_fold_indices(num_examples=8, k=4):\n",
    "    # Do something with the indices\n",
    "    print(f\"{train_index} {val_index}\\n\")\n",
    "print(len(k_fold_indices(num_examples=8, k=4)))\n",
    "\n",
    "for train_index, val_index in k_fold_indices(len(y), k):\n",
    "        print(train_index,val_index)\n",
    "        X0=X_train_sonar[train_index]\n",
    "        X1=X_test_sonar[val_index]\n",
    "        y0=y_train_sonar[train_index]\n",
    "        y1=y_test_sonar[val_index]\n",
    "\n",
    "        w, _ = train_penalized_logistic_regression(X0, y0, lambd, max_iters, lr, loss_freq)\n",
    "        \n",
    "        y_hat = logistic_output(X0, w)\n",
    "        acc = accuracy(convert_onehot_to_class(y_train_sonar), classify(y_hat))\n",
    "        print(f'Train accuracy: {100*acc:.2f}%')"
   ]
  },
  {
   "cell_type": "code",
   "execution_count": null,
   "id": "5bc10ec1-d786-44df-b8bf-6ad08a95d8b3",
   "metadata": {},
   "outputs": [],
   "source": []
  },
  {
   "cell_type": "code",
   "execution_count": null,
   "id": "db3fc032-8aba-4e77-a8c1-87f5a5b4edc0",
   "metadata": {},
   "outputs": [],
   "source": []
  },
  {
   "cell_type": "code",
   "execution_count": null,
   "id": "8910e2ca-6800-4358-adea-65eddd9af743",
   "metadata": {},
   "outputs": [],
   "source": []
  },
  {
   "cell_type": "code",
   "execution_count": null,
   "id": "ebad0d5d-3229-4230-96f5-db62a68a0ba5",
   "metadata": {},
   "outputs": [],
   "source": []
  },
  {
   "cell_type": "code",
   "execution_count": null,
   "id": "e9048c40-e39f-4a89-881b-aada33382c85",
   "metadata": {},
   "outputs": [],
   "source": []
  }
 ],
 "metadata": {
  "kernelspec": {
   "display_name": "Python 3 (ipykernel)",
   "language": "python",
   "name": "python3"
  },
  "language_info": {
   "codemirror_mode": {
    "name": "ipython",
    "version": 3
   },
   "file_extension": ".py",
   "mimetype": "text/x-python",
   "name": "python",
   "nbconvert_exporter": "python",
   "pygments_lexer": "ipython3",
   "version": "3.9.13"
  }
 },
 "nbformat": 4,
 "nbformat_minor": 5
}
