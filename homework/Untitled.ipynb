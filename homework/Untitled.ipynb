{
 "cells": [
  {
   "cell_type": "code",
   "execution_count": 11,
   "id": "a5abdd41-85eb-4089-b39b-943f33aa922a",
   "metadata": {},
   "outputs": [
    {
     "name": "stdout",
     "output_type": "stream",
     "text": [
      "0.0\n",
      "0.0\n",
      "3\n",
      "0.0\n"
     ]
    }
   ],
   "source": [
    "from typing import Tuple, List\n",
    "import pandas as pd\n",
    "import numpy as np\n",
    "import seaborn as sns\n",
    "import matplotlib.pyplot as plt\n",
    "import helpers\n",
    "\n",
    "confusion = np.zeros((3, 3))\n",
    "print(confusion[0,1])\n",
    "confusion[0,1]+=1\n",
    "print(confusion[1,1])\n",
    "print(len(confusion))\n",
    "print(confusion[,1])"
   ]
  },
  {
   "cell_type": "code",
   "execution_count": null,
   "id": "5bc10ec1-d786-44df-b8bf-6ad08a95d8b3",
   "metadata": {},
   "outputs": [],
   "source": []
  },
  {
   "cell_type": "code",
   "execution_count": null,
   "id": "db3fc032-8aba-4e77-a8c1-87f5a5b4edc0",
   "metadata": {},
   "outputs": [],
   "source": []
  },
  {
   "cell_type": "code",
   "execution_count": null,
   "id": "8910e2ca-6800-4358-adea-65eddd9af743",
   "metadata": {},
   "outputs": [],
   "source": []
  },
  {
   "cell_type": "code",
   "execution_count": null,
   "id": "ebad0d5d-3229-4230-96f5-db62a68a0ba5",
   "metadata": {},
   "outputs": [],
   "source": []
  },
  {
   "cell_type": "code",
   "execution_count": null,
   "id": "e9048c40-e39f-4a89-881b-aada33382c85",
   "metadata": {},
   "outputs": [],
   "source": []
  }
 ],
 "metadata": {
  "kernelspec": {
   "display_name": "Python 3 (ipykernel)",
   "language": "python",
   "name": "python3"
  },
  "language_info": {
   "codemirror_mode": {
    "name": "ipython",
    "version": 3
   },
   "file_extension": ".py",
   "mimetype": "text/x-python",
   "name": "python",
   "nbconvert_exporter": "python",
   "pygments_lexer": "ipython3",
   "version": "3.9.13"
  }
 },
 "nbformat": 4,
 "nbformat_minor": 5
}
